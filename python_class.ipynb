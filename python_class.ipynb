{
 "cells": [
  {
   "cell_type": "markdown",
   "metadata": {},
   "source": [
    "[Python Wikidocs](https://wikidocs.net/16071)\n",
    "\n",
    "## class 정리 - 클래스 기본적인 사용\n",
    "### 1. 클래스 개요\n",
    "- 클래스는 객체의 구조와 행동을 정의합니다.\n",
    "- 객체의 클래스는 초기화를 통해 제어합니다.\n",
    "- 클래스는 복잡한 문제를 다루기 쉽도록 만듭니다.\n",
    "\n",
    "### 2. 클래스 정의\n",
    "클래스를 작성하기 위해서는 class 키워드 사용하여 새로운 클래스를 작성합니다.\n",
    "\n",
    "Python의 대부분 네이밍컨벤션이 단어와 단어사이에 _ 를 넣는 다면 클래스의 네이밍컨벤션은 CamelCase 를 사용합니다.\n",
    "\n",
    "\n",
    "```python\n",
    "class CustomClass:\n",
    "    def __init__(self, param):\n",
    "        .......\n",
    "```"
   ]
  },
  {
   "cell_type": "markdown",
   "metadata": {
    "collapsed": true
   },
   "source": [
    "### 2-1 클래스 생성 연습\n",
    "연습은 에디터를 통해서 이루어집니다. 에디터에서 airtravel.py 파일을 생성합니다.\n",
    "클래스 생성은 아래와 같이 class 키워드 및 클래스의 이름을 입력하여 생성.\n",
    "```python\n",
    "class Flight:\n",
    "    pass\n",
    "```\n",
    "\n",
    "생성한 클래스는 REPL에서 아래와 같이 import할 수 있습니다."
   ]
  },
  {
   "cell_type": "markdown",
   "metadata": {},
   "source": [
    "* 생성한 클래스는 REPL에서 아래와 같이 import할 수 있습니다."
   ]
  },
  {
   "cell_type": "code",
   "execution_count": 2,
   "metadata": {},
   "outputs": [
    {
     "data": {
      "text/plain": [
       "airtravel.Flight"
      ]
     },
     "execution_count": 2,
     "metadata": {},
     "output_type": "execute_result"
    }
   ],
   "source": [
    "from airtravel import Flight\n",
    "Flight"
   ]
  },
  {
   "cell_type": "markdown",
   "metadata": {},
   "source": [
    "* 클래스 객체 생성 및 변수에 할당"
   ]
  },
  {
   "cell_type": "code",
   "execution_count": 3,
   "metadata": {},
   "outputs": [
    {
     "name": "stdout",
     "output_type": "stream",
     "text": [
      "new\n",
      "init\n"
     ]
    },
    {
     "data": {
      "text/plain": [
       "airtravel.Flight"
      ]
     },
     "execution_count": 3,
     "metadata": {},
     "output_type": "execute_result"
    }
   ],
   "source": [
    "f = Flight()\n",
    "type(f)"
   ]
  },
  {
   "cell_type": "markdown",
   "metadata": {},
   "source": [
    "- 클래스 메소드 작성\n",
    "- 메소드란 클래스 내의 함수"
   ]
  },
  {
   "cell_type": "code",
   "execution_count": 5,
   "metadata": {},
   "outputs": [],
   "source": [
    "class Flight:\n",
    "    def number(self):\n",
    "        return 'SN060'"
   ]
  },
  {
   "cell_type": "markdown",
   "metadata": {},
   "source": [
    "- 인스턴스 메소드의 접근\n",
    "- 인스턴스 메소드란 객체에서 호출되어질수 있는 함수"
   ]
  },
  {
   "cell_type": "code",
   "execution_count": 7,
   "metadata": {},
   "outputs": [
    {
     "name": "stdout",
     "output_type": "stream",
     "text": [
      "new\n",
      "init\n"
     ]
    },
    {
     "data": {
      "text/plain": [
       "'SN060'"
      ]
     },
     "execution_count": 7,
     "metadata": {},
     "output_type": "execute_result"
    }
   ],
   "source": [
    "from airtravel import Flight\n",
    "f = Flight()\n",
    "f.number()"
   ]
  },
  {
   "cell_type": "markdown",
   "metadata": {},
   "source": [
    "- 파이썬 메서드의 첫번째 파라미터명은 관례적으로 self라는 이름을 사용합니다.\n",
    "- 호출 시 호출한 객체 자신이 전달되기 때문에 self라는 이름을 사용하게 된 것\n",
    "- 이를 이용하여 클래스에서 바로 메소드로 접근하면서 위에서 할당한 Flight의 객체 f를 파라미터로 전달함으로써 똑같은 결과값 얻습니다."
   ]
  },
  {
   "cell_type": "code",
   "execution_count": 9,
   "metadata": {},
   "outputs": [
    {
     "data": {
      "text/plain": [
       "'SN060'"
      ]
     },
     "execution_count": 9,
     "metadata": {},
     "output_type": "execute_result"
    }
   ],
   "source": [
    "Flight.number(f)"
   ]
  },
  {
   "cell_type": "markdown",
   "metadata": {},
   "source": [
    "2-2 생성자와 초기화자\n",
    "위 예제에서 연습했듯 파이썬에서 객체를 생성할때 아래와 같이 생성자를 사용합니다.\n",
    "```python\n",
    "f = Flight() # 생성자(constructor)\n",
    "```\n",
    "생성자로 객체생성을 호출받으면 먼저 __new__ 를 호출하여 객체를 생성할당하고, __new__ 메소드가 __init__메소드를 호출하여 객체에서 사용할 초기값들을 초기화하게됩니다.\n",
    "\n",
    "간혹 여러 자료들을 보면.. __init__ 메소드를 생성자로 소개하는 경우가 있는데, 그렇지 않습니다.\n",
    "\n",
    "자료 https://stackoverflow.com/questions/6578487/init-as-a-constructor\n",
    "\n",
    "일반적으로 파이썬에서 클래스를 만들 시 __init__ 메소드만 오버라이딩하여 객체초기화에만 이용합니다.\n",
    "\n"
   ]
  },
  {
   "cell_type": "code",
   "execution_count": 11,
   "metadata": {
    "collapsed": true
   },
   "outputs": [],
   "source": [
    "class Flight:\n",
    "\n",
    "    def __init__(self):\n",
    "        print('init')\n",
    "        super().__init__()\n",
    "\n",
    "    def __new__(cls):\n",
    "        print('new')\n",
    "        return super().__new__(cls)\n",
    "\n",
    "    def number(self):\n",
    "        return 'SN060'\n"
   ]
  },
  {
   "cell_type": "markdown",
   "metadata": {},
   "source": [
    "- 다시 REPL에서 객체를 생성해보겠습니다.\n",
    "- 먼저 __new__가 클래스 자체를 받으며 할당하게되고, __init__가 self를 받으며 객체의 내부에서 사용할 속성을 초기화 합니다."
   ]
  },
  {
   "cell_type": "code",
   "execution_count": 12,
   "metadata": {},
   "outputs": [
    {
     "name": "stdout",
     "output_type": "stream",
     "text": [
      "new\n",
      "init\n"
     ]
    }
   ],
   "source": [
    "from airtravel import Flight\n",
    "f = Flight()"
   ]
  },
  {
   "cell_type": "markdown",
   "metadata": {},
   "source": [
    "객체의 속성을 초기화 해봅니다. Flight클래스를 수정해봅니다. __new__ 메소드는 자동으로 실행되므로 제거합니다.<BR>\n",
    "__init__ 메소드에 코드를 수정합니다.<BR>\n",
    "아래의 코드에서 self._number 로 할당했는데 변수명의 _ 의 의미는 다음과 같습니다.<BR>\n",
    "내부적으로 사용되는 변수<BR>\n",
    "파이썬기본 키워드와 충돌을 피하기 위한 변수<BR>\n",
    "_ 관련 네이밍컨벤션에 관련한 자료<BR>\n",
    "https://spoqa.github.io/2012/08/03/about-python-coding-convention.html\n",
    "https://www.python.org/dev/peps/pep-0008/#naming-conventions"
   ]
  },
  {
   "cell_type": "code",
   "execution_count": 21,
   "metadata": {},
   "outputs": [
    {
     "name": "stdout",
     "output_type": "stream",
     "text": [
      "Overwriting airtravel.py\n"
     ]
    }
   ],
   "source": [
    "%%writefile airtravel.py\n",
    "class Flight:\n",
    "    def __init__(self, number):\n",
    "        self._number = number\n",
    "\n",
    "    def number(self):\n",
    "        return self._number"
   ]
  },
  {
   "cell_type": "code",
   "execution_count": 22,
   "metadata": {},
   "outputs": [
    {
     "ename": "TypeError",
     "evalue": "__new__() takes 1 positional argument but 2 were given",
     "output_type": "error",
     "traceback": [
      "\u001b[0;31m---------------------------------------------------------------------------\u001b[0m",
      "\u001b[0;31mTypeError\u001b[0m                                 Traceback (most recent call last)",
      "\u001b[0;32m<ipython-input-22-a35502f43480>\u001b[0m in \u001b[0;36m<module>\u001b[0;34m()\u001b[0m\n\u001b[1;32m      1\u001b[0m \u001b[0;32mfrom\u001b[0m \u001b[0mairtravel\u001b[0m \u001b[0;32mimport\u001b[0m \u001b[0mFlight\u001b[0m\u001b[0;34m\u001b[0m\u001b[0m\n\u001b[0;32m----> 2\u001b[0;31m \u001b[0mf\u001b[0m \u001b[0;34m=\u001b[0m \u001b[0mFlight\u001b[0m\u001b[0;34m(\u001b[0m\u001b[0;36m5\u001b[0m\u001b[0;34m)\u001b[0m\u001b[0;34m\u001b[0m\u001b[0m\n\u001b[0m\u001b[1;32m      3\u001b[0m \u001b[0mf\u001b[0m\u001b[0;34m.\u001b[0m\u001b[0mnumber\u001b[0m\u001b[0;34m(\u001b[0m\u001b[0;34m)\u001b[0m\u001b[0;34m\u001b[0m\u001b[0m\n\u001b[1;32m      4\u001b[0m \u001b[0mf\u001b[0m\u001b[0;34m.\u001b[0m\u001b[0m_number\u001b[0m\u001b[0;34m\u001b[0m\u001b[0m\n",
      "\u001b[0;31mTypeError\u001b[0m: __new__() takes 1 positional argument but 2 were given"
     ]
    }
   ],
   "source": [
    "from airtravel import Flight\n",
    "f = Flight(5)\n",
    "f.number()\n",
    "f._number"
   ]
  },
  {
   "cell_type": "code",
   "execution_count": null,
   "metadata": {
    "collapsed": true
   },
   "outputs": [],
   "source": []
  },
  {
   "cell_type": "code",
   "execution_count": null,
   "metadata": {
    "collapsed": true
   },
   "outputs": [],
   "source": []
  }
 ],
 "metadata": {
  "kernelspec": {
   "display_name": "Python 3",
   "language": "python",
   "name": "python3"
  },
  "language_info": {
   "codemirror_mode": {
    "name": "ipython",
    "version": 3
   },
   "file_extension": ".py",
   "mimetype": "text/x-python",
   "name": "python",
   "nbconvert_exporter": "python",
   "pygments_lexer": "ipython3",
   "version": "3.6.1"
  }
 },
 "nbformat": 4,
 "nbformat_minor": 2
}
