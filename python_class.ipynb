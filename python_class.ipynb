{
 "cells": [
  {
   "cell_type": "markdown",
   "metadata": {},
   "source": [
    "## Class 정리 - 클래스 기본적인 사용"
   ]
  },
  {
   "cell_type": "markdown",
   "metadata": {},
   "source": [
    "[Python Wikidocs](https://wikidocs.net/16071)\n",
    "\n",
    "\n",
    "### 1. 클래스 개요\n",
    "- 클래스는 객체의 구조와 행동을 정의합니다.\n",
    "- 객체의 클래스는 초기화를 통해 제어합니다.\n",
    "- 클래스는 복잡한 문제를 다루기 쉽도록 만듭니다.\n",
    "\n",
    "### 2. 클래스 정의\n",
    "객체와 클래스의 관계는 \"붕어빵\"과 \"붕어빵을 굽는 틀\"에 비유할 수 있다. 클래스는 붕어빵틀이고 객체는 붕어빵이다. 클래스를 만들어 놓으면 붕어빵을 틀에서 찍는 것과 같이 각각의 객체를 생성하여 활용할 수 있으며 다른 틀에 그 특징들을 상속할 수 있다.\n",
    "<img src=\"images/class_ex.png\" width=\"800\" height=\"350\" align=\"left\">\n"
   ]
  },
  {
   "cell_type": "markdown",
   "metadata": {},
   "source": [
    "\n",
    "* 클래스를 작성하기 위해서는 class 키워드 사용하여 새로운 클래스를 작성합니다.\n",
    "\n",
    "* Python의 대부분 네이밍컨벤션이 단어와 단어사이에 _ 를 넣는 다면 클래스의 네이밍컨벤션은 CamelCase 를 사용합니다.\n",
    "\n",
    "\n",
    "```python\n",
    "class CustomClass:\n",
    "    def __init__(self, param):\n",
    "        .......\n",
    "```"
   ]
  },
  {
   "cell_type": "markdown",
   "metadata": {
    "collapsed": true
   },
   "source": [
    "### 2-1 클래스 생성 연습\n",
    "연습은 에디터를 통해서 이루어집니다. 에디터에서 airtravel.py 파일을 생성합니다.\n",
    "클래스 생성은 아래와 같이 class 키워드 및 클래스의 이름을 입력하여 생성.\n",
    "```python\n",
    "class Flight:\n",
    "    pass\n",
    "```\n"
   ]
  },
  {
   "cell_type": "code",
   "execution_count": 155,
   "metadata": {},
   "outputs": [
    {
     "data": {
      "text/plain": [
       "airtravel.Flight"
      ]
     },
     "execution_count": 155,
     "metadata": {},
     "output_type": "execute_result"
    }
   ],
   "source": [
    "from airtravel import Flight\n",
    "Flight"
   ]
  },
  {
   "cell_type": "markdown",
   "metadata": {},
   "source": [
    "* 클래스 객체 생성 및 변수에 할당"
   ]
  },
  {
   "cell_type": "code",
   "execution_count": 3,
   "metadata": {},
   "outputs": [
    {
     "name": "stdout",
     "output_type": "stream",
     "text": [
      "new\n",
      "init\n"
     ]
    },
    {
     "data": {
      "text/plain": [
       "airtravel.Flight"
      ]
     },
     "execution_count": 3,
     "metadata": {},
     "output_type": "execute_result"
    }
   ],
   "source": [
    "f = Flight()\n",
    "type(f)"
   ]
  },
  {
   "cell_type": "markdown",
   "metadata": {},
   "source": [
    "- 클래스 메소드 작성\n",
    "- 메소드란 클래스 내의 함수"
   ]
  },
  {
   "cell_type": "code",
   "execution_count": 5,
   "metadata": {
    "collapsed": true
   },
   "outputs": [],
   "source": [
    "class Flight:\n",
    "    def number(self):\n",
    "        return 'SN060'"
   ]
  },
  {
   "cell_type": "markdown",
   "metadata": {},
   "source": [
    "- 인스턴스 메소드의 접근\n",
    "- 인스턴스 메소드란 객체에서 호출되어질수 있는 함수"
   ]
  },
  {
   "cell_type": "code",
   "execution_count": 7,
   "metadata": {},
   "outputs": [
    {
     "name": "stdout",
     "output_type": "stream",
     "text": [
      "new\n",
      "init\n"
     ]
    },
    {
     "data": {
      "text/plain": [
       "'SN060'"
      ]
     },
     "execution_count": 7,
     "metadata": {},
     "output_type": "execute_result"
    }
   ],
   "source": [
    "from airtravel import Flight\n",
    "f = Flight()\n",
    "f.number()"
   ]
  },
  {
   "cell_type": "markdown",
   "metadata": {},
   "source": [
    "- 파이썬 메서드의 첫번째 파라미터명은 관례적으로 self라는 이름을 사용합니다.\n",
    "- 호출 시 호출한 객체 자신이 전달되기 때문에 self라는 이름을 사용하게 된 것\n",
    "- 이를 이용하여 클래스에서 바로 메소드로 접근하면서 위에서 할당한 Flight의 객체 f를 파라미터로 전달함으로써 똑같은 결과값 얻습니다."
   ]
  },
  {
   "cell_type": "code",
   "execution_count": 9,
   "metadata": {},
   "outputs": [
    {
     "data": {
      "text/plain": [
       "'SN060'"
      ]
     },
     "execution_count": 9,
     "metadata": {},
     "output_type": "execute_result"
    }
   ],
   "source": [
    "Flight.number(f)"
   ]
  },
  {
   "cell_type": "markdown",
   "metadata": {},
   "source": [
    "### 2-2 생성자와 초기화자\n",
    "위 예제에서 연습했듯 파이썬에서 객체를 생성할때 아래와 같이 생성자를 사용합니다.\n",
    "```python\n",
    "f = Flight() # 생성자(constructor)\n",
    "```\n",
    "생성자로 객체생성을 호출받으면 먼저 __new__ 를 호출하여 객체를 생성할당하고, __new__ 메소드가 __init__메소드를 호출하여 객체에서 사용할 초기값들을 초기화하게됩니다.\n",
    "\n",
    "간혹 여러 자료들을 보면.. __init__ 메소드를 생성자로 소개하는 경우가 있는데, 그렇지 않습니다.\n",
    "\n",
    "자료 https://stackoverflow.com/questions/6578487/init-as-a-constructor\n",
    "\n",
    "일반적으로 파이썬에서 클래스를 만들 시 __init__ 메소드만 오버라이딩하여 객체초기화에만 이용합니다.\n",
    "\n"
   ]
  },
  {
   "cell_type": "code",
   "execution_count": 11,
   "metadata": {
    "collapsed": true
   },
   "outputs": [],
   "source": [
    "class Flight:\n",
    "\n",
    "    def __init__(self):\n",
    "        print('init')\n",
    "        super().__init__()\n",
    "\n",
    "    def __new__(cls):\n",
    "        print('new')\n",
    "        return super().__new__(cls)\n",
    "\n",
    "    def number(self):\n",
    "        return 'SN060'\n"
   ]
  },
  {
   "cell_type": "markdown",
   "metadata": {},
   "source": [
    "- 먼저 __new__가 클래스 자체를 받으며 할당하게되고, __init__가 self를 받으며 객체의 내부에서 사용할 속성을 초기화 합니다."
   ]
  },
  {
   "cell_type": "code",
   "execution_count": null,
   "metadata": {
    "collapsed": true
   },
   "outputs": [],
   "source": [
    "from airtravel import Flight\n",
    "f = Flight()"
   ]
  },
  {
   "cell_type": "markdown",
   "metadata": {},
   "source": [
    "객체의 속성을 초기화 해봅니다. Flight클래스를 수정해봅니다. __new__ 메소드는 자동으로 실행되므로 제거합니다.<BR>\n",
    "__init__ 메소드에 코드를 수정합니다.<BR>\n",
    "아래의 코드에서 self._number 로 할당했는데 변수명의 _ 의 의미는 다음과 같습니다.<BR>\n",
    "내부적으로 사용되는 변수<BR>\n",
    "파이썬기본 키워드와 충돌을 피하기 위한 변수<BR>\n",
    "_ 관련 네이밍컨벤션에 관련한 자료<BR>\n",
    "https://spoqa.github.io/2012/08/03/about-python-coding-convention.html\n",
    "https://www.python.org/dev/peps/pep-0008/#naming-conventions"
   ]
  },
  {
   "cell_type": "code",
   "execution_count": null,
   "metadata": {
    "collapsed": true
   },
   "outputs": [],
   "source": [
    "%%writefile airtravel.py\n",
    "class Flight:\n",
    "    def __init__(self, number):\n",
    "        self._number = number\n",
    "\n",
    "    def number(self):\n",
    "        return self._number"
   ]
  },
  {
   "cell_type": "code",
   "execution_count": null,
   "metadata": {
    "collapsed": true
   },
   "outputs": [],
   "source": [
    "from airtravel import Flight\n",
    "f = Flight()\n",
    "f.number()\n",
    "#f._number"
   ]
  },
  {
   "cell_type": "markdown",
   "metadata": {},
   "source": [
    "- Python은 기본적으로 다른언어에 있는 접근제어자(public, private, protected)가 없음\n",
    "- 기본적으로 모두 Public"
   ]
  },
  {
   "cell_type": "markdown",
   "metadata": {},
   "source": [
    "2-3 초기화자(__init__)에 객체의 불변성을 확립하자(유효성검증을 수행)\n",
    "- 일반적으로 초기화자(__init__) 에서 객체의 불변성을 확립하는 것이 좋습니다.\n",
    "- 객체 생성시 들어올 값에 대해서 __init__에서 Validation을 수행합니다.\n",
    "- 비행기 번호는 앞에 두글자는 영문이어야하며 대문자입니다. 그리고 뒤에 세번째 글자부터 마지막까지는 양의 정수여야합니다.\n"
   ]
  },
  {
   "cell_type": "code",
   "execution_count": null,
   "metadata": {
    "collapsed": true
   },
   "outputs": [],
   "source": [
    "%%writefile airtravel1.py\n",
    "class Flight:\n",
    "\n",
    "    def __init__(self, number):\n",
    "        if not number[:2].isalpha():\n",
    "            raise ValueError(\"첫 두글자가 알파벳이 아닙니다.\")\n",
    "        if not number[:2].isupper():\n",
    "            raise ValueError(\"첫 두글자가 대문자가 아닙니다.\")\n",
    "        if not number[2:].isdigit():\n",
    "            raise ValueError(\"세번째 글자 이상이 양의 숫자가 아닙니다.\")\n",
    "        self._number = number\n",
    "        pass"
   ]
  },
  {
   "cell_type": "code",
   "execution_count": null,
   "metadata": {
    "collapsed": true
   },
   "outputs": [],
   "source": [
    "from airtravel1 import Flight\n",
    "f= Flight(\"abc\")"
   ]
  },
  {
   "cell_type": "markdown",
   "metadata": {},
   "source": [
    "### 비공개 속성\n",
    "- 위의 예처럼 _ 언더바 한개는 내부적으로만 사용되는 변수다라고 알리지만, 사실 값을 얻어올수도 있고 할당도 가능합니다. 사람들이 코딩컨벤션으로 파이썬을 쓰는 사람들이면 내부적인 변수구나 하고 알고 있을 뿐.."
   ]
  },
  {
   "cell_type": "code",
   "execution_count": null,
   "metadata": {
    "collapsed": true
   },
   "outputs": [],
   "source": [
    "f= Flight(\"AB001\")\n",
    "f._number"
   ]
  },
  {
   "cell_type": "code",
   "execution_count": null,
   "metadata": {
    "collapsed": true
   },
   "outputs": [],
   "source": [
    "f._number = 'abc'\n",
    "f.number()"
   ]
  },
  {
   "cell_type": "markdown",
   "metadata": {},
   "source": [
    "- 원천적인 접근을 막으려면 __ 더블 언더바를 사용하면 막을 수 있습니다.\n",
    "- 코드를 다시 변경해보겠습니다. _name 변수를 __name으로 변경하였습니다."
   ]
  },
  {
   "cell_type": "code",
   "execution_count": null,
   "metadata": {
    "collapsed": true
   },
   "outputs": [],
   "source": [
    "%%writefile airtravel1.py\n",
    "class Flight:\n",
    "\n",
    "    def __init__(self, number):\n",
    "        if not number[:2].isalpha():\n",
    "            raise ValueError(\"첫 두글자가 알파벳이 아닙니다.\")\n",
    "        if not number[:2].isupper():\n",
    "            raise ValueError(\"첫 두글자가 대문자가 아닙니다.\")\n",
    "        if not number[2:].isdigit():\n",
    "            raise ValueError(\"세번째 글자 이상이 양의 숫자가 아닙니다.\")\n",
    "        self.__number = number\n",
    "\n",
    "    def number(self):\n",
    "        return self.__number\n"
   ]
  },
  {
   "cell_type": "markdown",
   "metadata": {},
   "source": [
    "- 결과를 확인해봅니다.\n",
    "- number()인스턴스 메소드를 통해서 내부에서는 접근 가능한 모습을 보이나, 객체 f의 속성으로 접근 시 에러가 발생합니다."
   ]
  },
  {
   "cell_type": "code",
   "execution_count": null,
   "metadata": {
    "collapsed": true
   },
   "outputs": [],
   "source": [
    "from airtravel1 import Flight\n",
    "f= Flight(\"AB001\")\n",
    "f.number() \n",
    "f.__number"
   ]
  },
  {
   "cell_type": "markdown",
   "metadata": {},
   "source": [
    "- 주의! 파이썬은 메소드 오버로딩이 없다.\n",
    "- 메소드 오버로딩이란? : 하나의 클래스 내부에서 메소드 명칭은 똑같고, 인자를 다르게하는 형태를 허용합니다.\n",
    "- Java코드는 아래와 같은 코드를 허용합니다."
   ]
  },
  {
   "cell_type": "markdown",
   "metadata": {},
   "source": [
    "```c++\n",
    "class Adder{  \n",
    "    static int add(int a,int b)\n",
    "    {\n",
    "        return a+b;\n",
    "    }  \n",
    "    static int add(int a,int b,int c)\n",
    "    {\n",
    "        return a+b+c;\n",
    "    }  \n",
    "} \n",
    "```"
   ]
  },
  {
   "cell_type": "markdown",
   "metadata": {},
   "source": [
    "- 파이썬은 메소드 오버로딩이 없습니다.\n",
    "- 아래와 같은 코드가 있다면 첫번째 show는 무시되고, 두번째 show만 유지됩니다."
   ]
  },
  {
   "cell_type": "code",
   "execution_count": null,
   "metadata": {
    "collapsed": true
   },
   "outputs": [],
   "source": [
    "class Korea:\n",
    "\n",
    "    def __init__(self, name,population, captial):\n",
    "        self.name = name\n",
    "        self.population = population\n",
    "        self.capital = captial\n",
    "\n",
    "    def show(self):\n",
    "        print(\n",
    "            \"\"\"\n",
    "            국가의 이름은 {} 입니다.\n",
    "            국가의 인구는 {} 입니다.\n",
    "            국가의 수도는 {} 입니다.\n",
    "            \"\"\".format(self.name, self.population, self.capital)\n",
    "        )\n",
    "\n",
    "    def show(self, abc):\n",
    "        print('abc :', abc)\n",
    "a = Korea('대한민국',50000000, '서울')\n",
    "a.show()"
   ]
  },
  {
   "cell_type": "markdown",
   "metadata": {},
   "source": [
    "## class 정리 - 클래스 속성과 인스턴스 속성\n",
    "### 1. 클래스 속성과 인스턴스 속성의 차이\n",
    "* 앞서 포스팅 Python(파이썬) 기본 - 41. class 정리 에서 다루었던 초기화자(__init__)에서 `self.속성'에 할당 했던 변수들은 모두 인스턴스 속성에 해당합니다.\n",
    "\n",
    "* 클래스 속성은 아래와 같이 self.속성에 할당하는 것이 아니라 class안에서 바로 할당합니다."
   ]
  },
  {
   "cell_type": "markdown",
   "metadata": {},
   "source": [
    "```python\n",
    "   class CustomClass:\n",
    "    속성명 = 값\n",
    "\n",
    "    def custom_method():\n",
    "        pass\n",
    "    ...\n",
    "```"
   ]
  },
  {
   "cell_type": "markdown",
   "metadata": {},
   "source": [
    "## 2. 클래스 속성\n",
    "클래스 속성에 접근하는 메소드를 작성해보겠습니다."
   ]
  },
  {
   "cell_type": "code",
   "execution_count": null,
   "metadata": {
    "collapsed": true
   },
   "outputs": [],
   "source": [
    "\n",
    "class Flight:\n",
    "    class_attr = []\n",
    "\n",
    "    def add_class_attr(self, number):\n",
    "        Flight.class_attr.append(number)\n"
   ]
  },
  {
   "cell_type": "markdown",
   "metadata": {},
   "source": [
    "- REPL에서 확인해봅니다.\n",
    "- 객체를 2개를 만들고, 클래스 속성에 값을 추가하는 인스턴스 메소드를 사용합니다.\n",
    "- 클래스 속성에서의 직접접근 클래스명.클래스속성, 객체에서의 객체변수명.클래스속성 모두 똑같이 값을 공유합니다."
   ]
  },
  {
   "cell_type": "code",
   "execution_count": null,
   "metadata": {
    "collapsed": true
   },
   "outputs": [],
   "source": [
    "f = Flight()\n",
    "g = Flight()\n",
    "f.add_class_attr(5)\n",
    "Flight.class_attr"
   ]
  },
  {
   "cell_type": "code",
   "execution_count": null,
   "metadata": {
    "collapsed": true
   },
   "outputs": [],
   "source": [
    "f.class_attr"
   ]
  },
  {
   "cell_type": "code",
   "execution_count": null,
   "metadata": {
    "collapsed": true
   },
   "outputs": [],
   "source": [
    "g.class_attr"
   ]
  },
  {
   "cell_type": "code",
   "execution_count": null,
   "metadata": {
    "collapsed": true
   },
   "outputs": [],
   "source": [
    "g.add_class_attr(7)\n",
    "Flight.class_attr"
   ]
  },
  {
   "cell_type": "markdown",
   "metadata": {},
   "source": [
    "- 똑같은 클래스 속성과 인스턴스 속성을 선언하고 값이 어떻게 변하는지 살펴보겠습니다.\n",
    "- 초기화자(__init__)와 메소드를 하나 추가합니다."
   ]
  },
  {
   "cell_type": "code",
   "execution_count": null,
   "metadata": {
    "collapsed": true
   },
   "outputs": [],
   "source": [
    "class Flight:\n",
    "    class_attr = []\n",
    "\n",
    "    def __init__(self):\n",
    "        self.class_attr = []\n",
    "\n",
    "    def add_instance_attr(self, number):\n",
    "        self.class_attr.append(number)\n",
    "\n",
    "    def add_class_attr(self, number):\n",
    "        Flight.class_attr.append(number)"
   ]
  },
  {
   "cell_type": "markdown",
   "metadata": {},
   "source": [
    "- 인스턴스와 클래스 에 모두 같은 속성이 있으면 아래와 같이 인스턴스 속성을 먼저 찾는 것을 알 수 있습니다.\n",
    "- 속성과 메소드 이름 찾는 순은 인스턴스, 클래스 순입니다."
   ]
  },
  {
   "cell_type": "code",
   "execution_count": null,
   "metadata": {
    "collapsed": true
   },
   "outputs": [],
   "source": [
    "f = Flight()\n",
    "g = Flight()\n",
    "f.add_instance_attr(5)\n",
    "Flight.class_attr"
   ]
  },
  {
   "cell_type": "code",
   "execution_count": null,
   "metadata": {
    "collapsed": true
   },
   "outputs": [],
   "source": [
    "f.class_attr"
   ]
  },
  {
   "cell_type": "code",
   "execution_count": null,
   "metadata": {
    "collapsed": true
   },
   "outputs": [],
   "source": [
    "g.class_attr"
   ]
  },
  {
   "cell_type": "markdown",
   "metadata": {},
   "source": [
    "<b> - 클래스 속성은 여러 객체가 공유한다는 것을 유의해야합니다."
   ]
  },
  {
   "cell_type": "markdown",
   "metadata": {},
   "source": [
    "### 비공개 클래스 속성\n",
    "비공개 클래스 속성은 인스턴스의 비공개 속성과 동일합니다. 언더바 두개(__)로 속성명이 시작하면 비공개 속성이됩니다.\n",
    "코드로 확인해봅니다. 아래와 같이 __private_attr = 5 코드를 추가합니다.\n",
    "```python\n",
    "class Flight:\n",
    "    __private_attr = 5\n",
    "    ...생략\n",
    "```"
   ]
  },
  {
   "cell_type": "code",
   "execution_count": null,
   "metadata": {
    "collapsed": true
   },
   "outputs": [],
   "source": [
    "Flight.__private_attr"
   ]
  },
  {
   "cell_type": "markdown",
   "metadata": {},
   "source": [
    "## class 정리 - 상속(inheritance)\n",
    "### 1. 상속(inheritance) 이란?\n",
    "클래스에서 상속이란, 물려주는 클래스(Parent Class, Super class)의 내용(속성과 메소드)을 물려받는 클래스(Child class, sub class)가 가지게 되는 것입니다.\n",
    "예를 들면 국가라는 클래스가 있고, 그것을 상속받은 한국, 일본, 중국, 미국 등의 클래스를 만들 수 있으며, 국가라는 클래스의 기본적인 속성으로 인구라는 속성을 만들었다면, 상속 받은 한국, 일본, 중국 등등의 클래스에서 부모 클래스의 속성과 메소드를 사용할 수 있음을 말합니다.\n",
    "기본적인 사용방법은 아래와 같습니다.\n",
    "자식클래스를 선언할때 소괄호로 부모클래스를 포함시킵니다.\n",
    "그러면 자식클래스에서는 부모클래스의 속성과 메소드는 기재하지 않아도 포함이 됩니다.\n",
    "```python\n",
    "class 부모클래스:\n",
    "    ...내용...\n",
    "\n",
    "class 자식클래스(부모클래스):\n",
    "    ...내용...\n",
    "```\n",
    "\n",
    "### 2. 상속 사용해보기\n",
    "상속을 표현해보기위헤 에디터에서 inheritance.py 파일을 하나 만듭니다.\n",
    "아래와 같이 코드를 작성해봅니다.\n"
   ]
  },
  {
   "cell_type": "code",
   "execution_count": null,
   "metadata": {
    "collapsed": true
   },
   "outputs": [],
   "source": [
    "class Country:\n",
    "    \"\"\"Super Class\"\"\"\n",
    "\n",
    "    name = '국가명'\n",
    "    population = '인구'\n",
    "    capital = '수도'\n",
    "\n",
    "    def show(self):\n",
    "        print('국가 클래스의 메소드입니다.')\n",
    "\n",
    "\n",
    "class Korea(Country):\n",
    "    \"\"\"Sub Class\"\"\"\n",
    "\n",
    "    def __init__(self, name):\n",
    "        self.name = name\n",
    "\n",
    "    def show_name(self):\n",
    "        print('국가 이름은 : ', self.name)\n",
    "\n",
    "a = Korea('대한민국')\n",
    "a.show()\n",
    "print(a.capital)\n",
    "print(a.name)"
   ]
  },
  {
   "cell_type": "markdown",
   "metadata": {},
   "source": [
    "### 3-2 부모 메소드 호출하기\n",
    "부모클래스의 메소드도 수행하고, 자식클래스의 메소드의 내용도 함께 출력하기를 원할 수 있습니다.\n",
    "그럴때는 super() 라는 키워드를 사용하면 자식클래스 내에서 코드에서도 부모클래스를 호출할 수 있습니다."
   ]
  },
  {
   "cell_type": "code",
   "execution_count": null,
   "metadata": {
    "collapsed": true
   },
   "outputs": [],
   "source": [
    "class Korea(Country):\n",
    "\n",
    "    def show(self):\n",
    "        super().show()\n",
    "        print(\n",
    "            \"\"\"\n",
    "            국가의 이름은 {} 입니다.\n",
    "            국가의 인구는 {} 입니다.\n",
    "            국가의 수도는 {} 입니다.\n",
    "            \"\"\".format(self.name, self.population, self.capital)\n",
    "        )\n",
    "\n",
    "a = Korea('대한민국', 50000000, '서울')"
   ]
  },
  {
   "cell_type": "markdown",
   "metadata": {},
   "source": [
    "### 4. 다중상속\n",
    "C# 또는 Java는 다중상속이 불가능한 언어입니다.\n",
    "파이썬은 C++과 같이 다중상속이 가능합니다.\n",
    "작성 형식은 아래와 같습니다.\n",
    "```python\n",
    "    class 부모클래스1:\n",
    "        pass\n",
    "\n",
    "    class 부모클래스2:\n",
    "        pass\n",
    "\n",
    "    class 자식클래스(부모클래스1, 부모클래스2):\n",
    "        pass\n",
    "```\n",
    "\n",
    "예제 코드 입니다.\n",
    "아래와 같이 2개의 클래스를 상속하였습니다. 상속 개수에는 제한이 없습니다."
   ]
  },
  {
   "cell_type": "code",
   "execution_count": null,
   "metadata": {
    "collapsed": true
   },
   "outputs": [],
   "source": [
    "class Country:\n",
    "    \"\"\"Super Class\"\"\"\n",
    "\n",
    "class Province:\n",
    "    Province_list = []\n",
    "\n",
    "\n",
    "class Korea(Country,Province):\n",
    "    \"\"\"Sub Class\"\"\""
   ]
  },
  {
   "cell_type": "markdown",
   "metadata": {},
   "source": [
    "기타. mro() 메소드\n",
    "mro() - 클래스를 작성하면 상속 관계를 확인할 수 있는 메소드\n",
    "Korea클래스에 mro() 메소드를 실행하면 Korea클래스 다음 Country 다음 object가 나옵니다.\n",
    "모든 클래스는 object클래스의 상속입니다. 기본적으로 파이썬 3부터 object가 생략되어 코드가 작성됩니다."
   ]
  },
  {
   "cell_type": "code",
   "execution_count": null,
   "metadata": {
    "collapsed": true
   },
   "outputs": [],
   "source": [
    "Korea.mro()"
   ]
  },
  {
   "cell_type": "markdown",
   "metadata": {},
   "source": [
    "## class 정리 - 정적메소드 @classmethod와 @staticmethod의 정리\n",
    "### 1. 정적메소드(@classmethod와 @staticmethod)\n",
    "- 정적메소드라 함은 클래스에서 직접 접근할 수 있는 메소드입니다.\n",
    "- 파이썬에서는 클래스에서 직접 접근할 수 있는 메소드가 두가지가 있습니다.staticmethod와 classmethod 입니다.\n",
    "- 하지만 파이썬에서는 다른언어와는 다르게 정적메소드임에도 불구하고 인스턴스에서도 접근이 가능합니다. 이 차이에 유의해야합니다.\n",
    "- 에디터에서 static_method.py파일을 작성합니다.\n",
    "- 인스턴스 메소드는 첫번째 인자로 객체 자신 self자신을 입력합니다.\n",
    "- classmethod는 첫번째 인자로 클래스를 입력합니다.\n",
    "- staticmethod는 특별히 추가되는 인자가 없습니다."
   ]
  },
  {
   "cell_type": "code",
   "execution_count": null,
   "metadata": {
    "collapsed": true
   },
   "outputs": [],
   "source": [
    "%%writefile static_method.py\n",
    "class CustomClass:\n",
    "\n",
    "    # instance method\n",
    "    def add_instance_method(self, a,b):\n",
    "        return a + b\n",
    "\n",
    "    # classmethod\n",
    "    @classmethod\n",
    "    def add_class_method(cls, a, b):\n",
    "        return a + b\n",
    "\n",
    "    # staticmethod\n",
    "    @staticmethod\n",
    "    def add_static_method(a, b):\n",
    "        return a + b"
   ]
  },
  {
   "cell_type": "markdown",
   "metadata": {},
   "source": [
    "- 먼저 인스턴스 메소드를 클래스에서 바로 접근해봅니다.\n",
    "- 일반적으로 인스턴스 메소드안에서 인스턴스 변수를 접근할경우 아래처럼 사용하면 안되고, 첫번째 인자에 객체를 할당해야합니다."
   ]
  },
  {
   "cell_type": "code",
   "execution_count": null,
   "metadata": {
    "collapsed": true
   },
   "outputs": [],
   "source": [
    "from static_method import CustomClass\n",
    "CustomClass.add_instance_method(None, 3, 5)"
   ]
  },
  {
   "cell_type": "markdown",
   "metadata": {},
   "source": [
    "- classmethod를 접근해봅니다.\n",
    "- 첫번째 인자가 클래스지만 생략하고 접근해야합니다."
   ]
  },
  {
   "cell_type": "code",
   "execution_count": null,
   "metadata": {
    "collapsed": true
   },
   "outputs": [],
   "source": [
    "CustomClass.add_class_method(CustomClass, 3, 5)"
   ]
  },
  {
   "cell_type": "code",
   "execution_count": null,
   "metadata": {
    "collapsed": true
   },
   "outputs": [],
   "source": [
    "CustomClass.add_class_method(3, 5)"
   ]
  },
  {
   "cell_type": "markdown",
   "metadata": {},
   "source": [
    "- staticmethod를 접근해봅니다."
   ]
  },
  {
   "cell_type": "code",
   "execution_count": null,
   "metadata": {
    "collapsed": true
   },
   "outputs": [],
   "source": [
    "CustomClass.add_static_method(3, 5)"
   ]
  },
  {
   "cell_type": "markdown",
   "metadata": {},
   "source": [
    "### @classmethod와 @staticmethod 의 차이\n",
    "classmethod와 static메소드의 차이는 상속에서 두드러지게 차이가 납니다."
   ]
  },
  {
   "cell_type": "code",
   "execution_count": null,
   "metadata": {
    "collapsed": true
   },
   "outputs": [],
   "source": [
    "class Language:\n",
    "    default_language = \"English\"\n",
    "\n",
    "    def __init__(self):\n",
    "        self.show = '나의 언어는' + self.default_language\n",
    "        \n",
    "    @classmethod\n",
    "    def class_my_language(cls):\n",
    "        return cls()\n",
    "\n",
    "    @staticmethod\n",
    "    def static_my_language():\n",
    "        return Language()\n",
    "\n",
    "    def print_language(self):\n",
    "        print(self.show)\n",
    "\n",
    "\n",
    "class KoreanLanguage(Language):\n",
    "    default_language = \"한국어\"\n",
    "a = KoreanLanguage.static_my_language()\n",
    "b = KoreanLanguage.class_my_language()\n",
    "a.print_language()\n",
    "b.print_language()"
   ]
  },
  {
   "cell_type": "markdown",
   "metadata": {},
   "source": [
    "staticmethod에서는 부모클래스의 클래스속성 값을 가져오지만, classmethod에서는 cls인자를 활용하여 cls의 클래스속성을 가져오는 것을 알 수 있습니다.\n"
   ]
  },
  {
   "cell_type": "markdown",
   "metadata": {},
   "source": [
    "## class 정리 - 추상클래스(abstract class)\n",
    "### 1. 추상클래스(abstarct class)란\n",
    "- 추상클래스란 미구현 추상메소드를 한개 이상 가지며, 자식클래스에서 해당 추상 메소드를 반드시 구현하도록 강제합니다.\n",
    "- 상속받은 클래스는 추상메소드를 구현하지 않아도, import할 때까지 에러는 발생하지 않으나 객체를 생성할 시 에러가 발생합니다.\n",
    "- 추상클래스를 만들기 위한 형식은 아래와 같습니다.\n",
    "- 반드시 abc 모듈을 import 해야합니다.\n",
    "- 추상메소드는 생략하면 기본적인 클래스 기능은 동작합니다만, 추상메소드를 추가한 후에는 객체를 생성하면 에러가 발생합니다.\n",
    "```python\n",
    "from abc import *\n",
    "class 추상클래스명(metaclass=ABCMeta):\n",
    "\n",
    "     @abstractmethod\n",
    "        def 추상메소드(self):\n",
    "            pass\n",
    "```\n"
   ]
  },
  {
   "cell_type": "markdown",
   "metadata": {},
   "source": [
    "추상클래스(abstract class) 사용"
   ]
  },
  {
   "cell_type": "code",
   "execution_count": null,
   "metadata": {
    "collapsed": true
   },
   "outputs": [],
   "source": [
    "from abc import *\n",
    "\n",
    "\n",
    "class AbstractCountry(metaclass=ABCMeta):\n",
    "    name = '국가명'\n",
    "    population = '인구'\n",
    "    capital = '수도'\n",
    "\n",
    "    def show(self):\n",
    "        print('국가 클래스의 메소드입니다.')\n",
    "\n",
    "class Korea(AbstractCountry):\n",
    "\n",
    "    def __init__(self, name,population, capital):\n",
    "        self.name = name\n",
    "        self.population = population\n",
    "        self.capital = capital\n",
    "\n",
    "    def show_name(self):\n",
    "        print('국가 이름은 : ', self.name)\n",
    "a = AbstractCountry()\n",
    "a.show()\n",
    "b = Korea(\"대한민국\", 50000000, '서울')\n",
    "b.show_name()"
   ]
  },
  {
   "cell_type": "markdown",
   "metadata": {},
   "source": [
    "- 아직 추상메소드를 작성하지 않았습니다.\n",
    "- 하지만 추상클래스라할지라도 기본적인 클래스 기능은 동작합니다.(추상메소드를 작성하지 않았기때문에..)\n",
    "- 상속한 객체도 생성이 됩니다.\n"
   ]
  },
  {
   "cell_type": "code",
   "execution_count": null,
   "metadata": {
    "collapsed": true
   },
   "outputs": [],
   "source": [
    "#AbstarctCountry 클래스에 추상메소드를 추가합니다.\n",
    "class AbstractCountry(metaclass=ABCMeta):\n",
    "\n",
    "\n",
    "    @abstractmethod\n",
    "    def show_capital(self):\n",
    "        print('국가의 수도는?')\n",
    "        \n",
    "a = Korea(\"대한민국\", 50000000, '서울')"
   ]
  },
  {
   "cell_type": "markdown",
   "metadata": {},
   "source": [
    "        \n",
    "        다시 REPL 에서 상속받은 Korea 클래스 객체를 생성해봅니다.\n",
    "객체 생성 시에 에러가 발생합니다.\n",
    "Pycharm을 사용 중인데 에디터상에서 체크해서 경고를 해줄거라 기대했는데.. 에디터에서 weak warning으로 약한 회색줄만 살짝 그어져있군요, 유의해야합니다.\n",
    ">>> from abstract import *\n",
    ">>> a = Korea(\"대한민국\", 50000000, '서울')\n",
    "Traceback (most recent call last):\n",
    "  File \"<stdin>\", line 1, in <module>\n",
    "TypeError: Can't instantiate abstract class Korea with abstract methods show_capital\n",
    "\n",
    "Korea 클래스에서 상속받은 추상메소드를 구현하겠습니다.\n",
    "    class Korea(AbstractCountry):\n",
    "\n",
    "       def show_capital(self):\n",
    "           super().show_capital()\n",
    "           print(self.capital)\n",
    "\n",
    " a = Korea(\"대한민국\", 50000000, '서울')\n",
    "  a.show_capital()\n",
    "국가의 수도는?\n",
    "서울m\n",
    "추상메소드를 추가하고 객체를 생성하면 에러가 발생합니다.\n",
    "\n",
    "\n",
    "from abstract import *\n",
    " a = AbstractCountry()\n",
    "Traceback (most recent call last):\n",
    "  File \"<stdin>\", line 1, in <module>\n",
    "TypeError: Can't instantiate abstract class AbstractCountry with abstract methods show_capital"
   ]
  },
  {
   "cell_type": "markdown",
   "metadata": {},
   "source": [
    "## class 정리 - 덕 타이핑(Duck Typing)\n",
    "### 1. 덕 타이핑(Duck Typing 이란?)\n",
    "Duck Typing - 'If it walks like a duck and it quacks like a duck, then it must be a duck' 해석해보면 '오리처럼 걷고, 오리처럼 꽥꽥거리면, 그것은 틀림없이 오리다.' 라는 뜻입니다.\n",
    "파이썬과 같은 동적타입의 언어에서 본질적으로 다른클래스라도 객체의 적합성은 객체의 실제 유형이 아니라 특정 메소드와 속성의 존재에 의해 결정되는 것입니다.\n",
    "\n",
    "Parrot 클래스와 Airplane 클래스는 분명 서로 상속되거나 하는 그런 관계는 없습니다만, 내부에 동일한 메소드의 fly()메소드가 있는 것만으로 호출하는 'lift_off(entity)' 함수에서 fly가 정상적으로 실행됩니다.\n",
    "마지막 Whale 클래스는 해당 fly() 메소드가 없기 때문에, AttributeError가 발생합니다.\n",
    "속성과 메소드 존재에 의해 객체의 적합성이 결정된다."
   ]
  },
  {
   "cell_type": "code",
   "execution_count": null,
   "metadata": {
    "collapsed": true
   },
   "outputs": [],
   "source": [
    "class Parrot:\n",
    "    def fly(self):\n",
    "        print(\"Parrot flying\")\n",
    "\n",
    "class Airplane:\n",
    "    def fly(self):\n",
    "        print(\"Airplane flying\")\n",
    "\n",
    "class Whale:\n",
    "    def swim(self):\n",
    "        print(\"Whale swimming\")\n",
    "\n",
    "def lift_off(entity):\n",
    "    entity.fly()\n",
    "\n",
    "parrot = Parrot()\n",
    "airplane = Airplane()\n",
    "whale = Whale()\n",
    "\n",
    "lift_off(parrot) # prints `Parrot flying`\n",
    "lift_off(airplane) # prints `Airplane flying`\n",
    "lift_off(whale) # Throws the error `'Whale' object has no attribute 'fly'`"
   ]
  },
  {
   "cell_type": "markdown",
   "metadata": {
    "collapsed": true
   },
   "source": [
    "\n",
    "## 파이썬 클래스 property"
   ]
  },
  {
   "cell_type": "code",
   "execution_count": 168,
   "metadata": {},
   "outputs": [
    {
     "name": "stdout",
     "output_type": "stream",
     "text": [
      "<bound method Rectangle.area of <__main__.Rectangle object at 0x109f435f8>>\n",
      "5.656854249492381\n"
     ]
    },
    {
     "ename": "AttributeError",
     "evalue": "can't set attribute",
     "output_type": "error",
     "traceback": [
      "\u001b[0;31m---------------------------------------------------------------------------\u001b[0m",
      "\u001b[0;31mAttributeError\u001b[0m                            Traceback (most recent call last)",
      "\u001b[0;32m<ipython-input-168-0fe7ee3be2b5>\u001b[0m in \u001b[0;36m<module>\u001b[0;34m()\u001b[0m\n\u001b[1;32m     18\u001b[0m \u001b[0mprint\u001b[0m \u001b[0;34m(\u001b[0m\u001b[0ma\u001b[0m\u001b[0;34m.\u001b[0m\u001b[0msqrt\u001b[0m \u001b[0;34m)\u001b[0m \u001b[0;31m# 5.65685424949\u001b[0m\u001b[0;34m\u001b[0m\u001b[0m\n\u001b[1;32m     19\u001b[0m \u001b[0;34m\u001b[0m\u001b[0m\n\u001b[0;32m---> 20\u001b[0;31m \u001b[0ma\u001b[0m\u001b[0;34m.\u001b[0m\u001b[0msqrt\u001b[0m \u001b[0;34m=\u001b[0m \u001b[0;36m1\u001b[0m  \u001b[0;31m# AttributeError: can't set attribute\u001b[0m\u001b[0;34m\u001b[0m\u001b[0m\n\u001b[0m\u001b[1;32m     21\u001b[0m \u001b[0ma\u001b[0m\u001b[0;34m.\u001b[0m\u001b[0msqrt\u001b[0m\u001b[0;34m\u001b[0m\u001b[0m\n",
      "\u001b[0;31mAttributeError\u001b[0m: can't set attribute"
     ]
    }
   ],
   "source": [
    "import math\n",
    "class Rectangle(object):\n",
    "    \n",
    "    def __init__(self,r):\n",
    "        self.r = r\n",
    "    \n",
    "\n",
    "    def area(self):\n",
    "        return self.r*self.r\n",
    "\n",
    "    @property\n",
    "    def sqrt(self):\n",
    "        return self.r*math.sqrt(2)\n",
    "    \n",
    "    @sqrt.setter\n",
    "    def\n",
    "  \n",
    "a = Rectangle(4)\n",
    "    \n",
    "print( a.area ) # 16 \n",
    "print (a.sqrt ) # 5.65685424949\n",
    "    \n",
    "a.sqrt = 1  # AttributeError: can't set attribute\n",
    "a.sqrt"
   ]
  },
  {
   "cell_type": "code",
   "execution_count": null,
   "metadata": {
    "collapsed": true
   },
   "outputs": [],
   "source": []
  }
 ],
 "metadata": {
  "kernelspec": {
   "display_name": "Python 3",
   "language": "python",
   "name": "python3"
  },
  "language_info": {
   "codemirror_mode": {
    "name": "ipython",
    "version": 3
   },
   "file_extension": ".py",
   "mimetype": "text/x-python",
   "name": "python",
   "nbconvert_exporter": "python",
   "pygments_lexer": "ipython3",
   "version": "3.6.1"
  }
 },
 "nbformat": 4,
 "nbformat_minor": 2
}
