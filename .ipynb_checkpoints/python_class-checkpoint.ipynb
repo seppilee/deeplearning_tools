{
 "cells": [
  {
   "cell_type": "markdown",
   "metadata": {},
   "source": [
    "[Python Wikidocs](https://wikidocs.net/16071)\n",
    "\n",
    "## class 정리 - 클래스 기본적인 사용\n",
    "### 1. 클래스 개요\n",
    "- 클래스는 객체의 구조와 행동을 정의합니다.\n",
    "- 객체의 클래스는 초기화를 통해 제어합니다.\n",
    "- 클래스는 복잡한 문제를 다루기 쉽도록 만듭니다.\n",
    "\n",
    "### 2. 클래스 정의\n",
    "클래스를 작성하기 위해서는 class 키워드 사용하여 새로운 클래스를 작성합니다.\n",
    "\n",
    "Python의 대부분 네이밍컨벤션이 단어와 단어사이에 _ 를 넣는 다면 클래스의 네이밍컨벤션은 CamelCase 를 사용합니다.\n",
    "\n",
    "\n",
    "```python\n",
    "class CustomClass:\n",
    "    def __init__(self, param):\n",
    "        .......\n",
    "```"
   ]
  },
  {
   "cell_type": "markdown",
   "metadata": {
    "collapsed": true
   },
   "source": [
    "### 2-1 클래스 생성 연습\n",
    "연습은 에디터를 통해서 이루어집니다. 에디터에서 airtravel.py 파일을 생성합니다.\n",
    "클래스 생성은 아래와 같이 class 키워드 및 클래스의 이름을 입력하여 생성.\n",
    "```python\n",
    "class Flight:\n",
    "    pass\n",
    "```\n",
    "\n",
    "생성한 클래스는 REPL에서 아래와 같이 import할 수 있습니다."
   ]
  },
  {
   "cell_type": "markdown",
   "metadata": {},
   "source": [
    "* 생성한 클래스는 REPL에서 아래와 같이 import할 수 있습니다."
   ]
  },
  {
   "cell_type": "code",
   "execution_count": 2,
   "metadata": {},
   "outputs": [
    {
     "data": {
      "text/plain": [
       "airtravel.Flight"
      ]
     },
     "execution_count": 2,
     "metadata": {},
     "output_type": "execute_result"
    }
   ],
   "source": [
    "from airtravel import Flight\n",
    "Flight"
   ]
  },
  {
   "cell_type": "markdown",
   "metadata": {},
   "source": [
    "* 클래스 객체 생성 및 변수에 할당"
   ]
  },
  {
   "cell_type": "code",
   "execution_count": 3,
   "metadata": {},
   "outputs": [
    {
     "name": "stdout",
     "output_type": "stream",
     "text": [
      "new\n",
      "init\n"
     ]
    },
    {
     "data": {
      "text/plain": [
       "airtravel.Flight"
      ]
     },
     "execution_count": 3,
     "metadata": {},
     "output_type": "execute_result"
    }
   ],
   "source": [
    "f = Flight()\n",
    "type(f)"
   ]
  },
  {
   "cell_type": "markdown",
   "metadata": {},
   "source": [
    "- 클래스 메소드 작성\n",
    "- 메소드란 클래스 내의 함수\n",
    "메소드 작성하기\n",
    "```python\n",
    "class Flight:\n",
    "    def number(self):\n",
    "```"
   ]
  },
  {
   "cell_type": "code",
   "execution_count": null,
   "metadata": {
    "collapsed": true
   },
   "outputs": [],
   "source": []
  }
 ],
 "metadata": {
  "kernelspec": {
   "display_name": "Python 3",
   "language": "python",
   "name": "python3"
  },
  "language_info": {
   "codemirror_mode": {
    "name": "ipython",
    "version": 3
   },
   "file_extension": ".py",
   "mimetype": "text/x-python",
   "name": "python",
   "nbconvert_exporter": "python",
   "pygments_lexer": "ipython3",
   "version": "3.6.1"
  }
 },
 "nbformat": 4,
 "nbformat_minor": 2
}
