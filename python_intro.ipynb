{
 "cells": [
  {
   "cell_type": "markdown",
   "metadata": {},
   "source": [
    "### 들여쓰기\n",
    "* 들여쓰기 코드 단락을 구분하기 위해 중괄호 대신 들여쓰기를 한다. \n",
    "* 일반적으로 공백 4개를 사용한다."
   ]
  },
  {
   "cell_type": "code",
   "execution_count": 21,
   "metadata": {},
   "outputs": [
    {
     "name": "stdout",
     "output_type": "stream",
     "text": [
      "loop1: 1\n",
      "loop2: a\n",
      "loop2: b\n",
      "loop2: c\n",
      "loop1: 2\n",
      "loop2: a\n",
      "loop2: b\n",
      "loop2: c\n",
      "loop1: 3\n",
      "loop2: a\n",
      "loop2: b\n",
      "loop2: c\n",
      "all loop is done!\n"
     ]
    }
   ],
   "source": [
    "for i in range(1, 4):\n",
    "    print (\"loop1:\", i)\n",
    "    for j in [\"a\", \"b\", \"c\"]:\n",
    "        print (\"loop2:\",j)        \n",
    "print (\"all loop is done!\")\n",
    "\n",
    "\n",
    "def fib(n):\n",
    "         # Indent level 1: function body\n",
    "         if n <= 1:\n",
    "           # Indent level 2: if statement body\n",
    "           return 1\n",
    "         else:\n",
    "           # Indent level 2: else statement body\n",
    "           return fib(n-1)+fib(n-2)\n",
    " "
   ]
  },
  {
   "cell_type": "markdown",
   "metadata": {},
   "source": [
    "* 역슬래시(\\\\) 사용하여 코드의 가독성을 높인다. "
   ]
  },
  {
   "cell_type": "code",
   "execution_count": 2,
   "metadata": {
    "collapsed": true
   },
   "outputs": [],
   "source": [
    "with open('./neural_networks_tutorial.ipynb') as file_1, \\\n",
    "        open('./neural_networks_tutorial.out', 'w') as file_2:\n",
    "    file_2.write(file_1.read())"
   ]
  },
  {
   "cell_type": "markdown",
   "metadata": {},
   "source": [
    "* _ 는 값을 무시하고 싶은 경우에 주로 사용된다."
   ]
  },
  {
   "cell_type": "code",
   "execution_count": 16,
   "metadata": {},
   "outputs": [
    {
     "name": "stdout",
     "output_type": "stream",
     "text": [
      "************************\n",
      "************************\n",
      "************************\n"
     ]
    }
   ],
   "source": [
    "def do_something():\n",
    "    return \"************************\"\n",
    "for _ in range(3):\n",
    "    print (do_something())"
   ]
  },
  {
   "cell_type": "markdown",
   "metadata": {},
   "source": [
    "## 모듈"
   ]
  },
  {
   "cell_type": "code",
   "execution_count": 17,
   "metadata": {},
   "outputs": [
    {
     "name": "stdout",
     "output_type": "stream",
     "text": [
      "Overwriting fibo.py\n"
     ]
    }
   ],
   "source": [
    "%%writefile fibo.py\n",
    "\n",
    "# Fibonacci numbers module\n",
    "\n",
    "def fib1(n):    # write Fibonacci series up to n\n",
    "    a, b = 0, 1\n",
    "    while b < n:\n",
    "        print(b, end=' ')\n",
    "        a, b = b, a+b\n",
    "    print()\n",
    "\n",
    "def fib2(n):   # return Fibonacci series up to n\n",
    "    result = []\n",
    "    a, b = 0, 1\n",
    "    while b < n:\n",
    "        result.append(b)\n",
    "        a, b = b, a+b\n",
    "    return result"
   ]
  },
  {
   "cell_type": "code",
   "execution_count": 18,
   "metadata": {},
   "outputs": [
    {
     "data": {
      "text/plain": [
       "[1, 1, 2, 3, 5, 8, 13, 21, 34]"
      ]
     },
     "execution_count": 18,
     "metadata": {},
     "output_type": "execute_result"
    }
   ],
   "source": [
    "import fibo\n",
    "\n",
    "fibo.fib2(50)"
   ]
  },
  {
   "cell_type": "code",
   "execution_count": 44,
   "metadata": {},
   "outputs": [
    {
     "name": "stdout",
     "output_type": "stream",
     "text": [
      "<_sre.SRE_Match object; span=(3, 5), match='aB'>\n",
      "<_sre.SRE_Match object; span=(3, 6), match='def'>\n",
      "<_sre.SRE_Match object; span=(4, 5), match='e'>\n",
      "<_sre.SRE_Match object; span=(5, 13), match='321.2312'>\n",
      "['321.2312', '21.23']\n",
      "python\\.exe\n",
      "static PyObject* py_myfunc(void)\n",
      "Isaac Newton\n",
      "Isaac\n",
      "('Isaac', 'Newton')\n"
     ]
    }
   ],
   "source": [
    "#https://docs.python.org/3/library/re.html\n",
    "    \n",
    "import re\n",
    "pattern = re.compile(\"[a-z]+\", re.I)\n",
    "text = \"013aB321.2312.21.23\"\n",
    "print(pattern.search(text))\n",
    "print(re.search('(?<=abc)def', 'abcdef'))\n",
    "print(re.search('(?<!abc)e', 'abcdef'))\n",
    "a = re.compile(r\"\"\"\\d +  # the integral part\n",
    "                   \\.    # the decimal point\n",
    "                   \\d *  # some fractional digits\"\"\", re.X)\n",
    "print(re.search(a, text))\n",
    "print(re.findall(a, text))\n",
    "\n",
    "print(re.escape('python.exe'))\n",
    "\n",
    "\n",
    "print(re.sub(r'def\\s+([a-zA-Z_][a-zA-Z_0-9]*)\\s*\\(\\s*\\):',\n",
    "             r'static PyObject* py_\\1(void)',\n",
    "             'def myfunc():'))\n",
    "\n",
    "def dashrepl(matchobj):\n",
    "    if matchobj.group(0) == '-': return ' '\n",
    "    else: return '-'\n",
    "re.sub('-{1,2}', dashrepl, 'pro----gram-files')\n",
    "\n",
    "m = re.match(r\"(\\w+) (\\w+)\", \"Isaac Newton, physicist\")\n",
    "print(m.group(0))       # The entire match\n",
    "print(m.group(1))       # The first parenthesized subgroup.\n",
    "print(m.group(1, 2))    # Multiple arguments give us a tuple."
   ]
  },
  {
   "cell_type": "markdown",
   "metadata": {},
   "source": [
    "## 연산"
   ]
  },
  {
   "cell_type": "markdown",
   "metadata": {},
   "source": [
    "` x + y \n",
    "x - y\n",
    "x ** y\n",
    "x / y\n",
    "x / float(y)`"
   ]
  },
  {
   "cell_type": "markdown",
   "metadata": {},
   "source": [
    "<img src=\"images/datatype.png\" width=\"600\" height=\"300\" alt=\"python object\" align=\"left\">"
   ]
  },
  {
   "cell_type": "markdown",
   "metadata": {},
   "source": [
    "## 함수"
   ]
  },
  {
   "cell_type": "markdown",
   "metadata": {},
   "source": [
    "정의: 어떤 일련의 처리를 수행하는 프로그램 \n",
    "함수(function)란 하나의 특별한 목적의 작업을 수행하기 위해 독립적으로 설계된 코드의 집합으로 정의할 수 있습니다.\n",
    "x -> function -> f(x)\n",
    "\n",
    "\n",
    "- 함수를 사용하는 가장 큰 이유는 바로 반복적인 프로그래밍을 피할 수 있기 때문입니다.\n",
    "\n",
    "- 프로그램을 여러 개의 함수로 나누어 작성하면, 모듈화로 인해 전체적인 코드의 가독성이 좋아집니다.\n",
    "\n",
    "- 프로그램에 문제가 발생하거나 기능의 변경이 필요할 때에도 손쉽게 유지보수를 할 수 있습니다.\n",
    "\n",
    "[Python] 함수/클래스/모듈\n",
    "\n",
    "프로그램을 개발하다 보면 자주 사용하게되는 프로그래밍 코드를 하나의 함수나 클래스라는 단위로 묶어서 코드를 재사용하게 된다. \n",
    "이후동일한 목적 혹은 사용의 함수, 클래스들을 모아서 라이브러리(library) 또는 모듈(module)이라 부른다. \n",
    "이후이러한 라이브리리와 모듈은 또한 방향성과 성격등으로합쳐져서 큰 틀인 프레임워크(framework)가 된다. \n",
    "\n",
    "\n",
    "\n",
    "내장함수\n",
    "[python 메소드 및 함수정리 모음](http://sarangyik.tistory.com/entry/python-%EB%A9%94%EC%86%8C%EB%93%9C-%EB%B0%8F-%ED%95%A8%EC%88%98%EC%A0%95%EB%A6%AC-%EB%AA%A8%EC%9D%8C)\n",
    "파이썬에서는 자주 사용되는 함수를 내장 함수(Built-in Functions)라는 이름으로 기본적으로 제공합니다.\n"
   ]
  },
  {
   "cell_type": "code",
   "execution_count": 7,
   "metadata": {},
   "outputs": [
    {
     "name": "stdout",
     "output_type": "stream",
     "text": [
      "8\n",
      "6\n"
     ]
    }
   ],
   "source": [
    "def double(x=3):\n",
    "    \"\"\"comment\"\"\"\n",
    "    return x * 2 \n",
    "print(double(4))\n",
    "\n",
    "func = lambda x : x + 4\n",
    "print(func(2))"
   ]
  },
  {
   "cell_type": "markdown",
   "metadata": {},
   "source": []
  },
  {
   "cell_type": "code",
   "execution_count": 122,
   "metadata": {
    "collapsed": true
   },
   "outputs": [],
   "source": [
    "# 데코레이터 (debug_log)의 기능을 활성화하기 위한 플래그\n",
    "debug_trace = True\n",
    "# 위의 플래그가 활성인 경우, 로그 파일을 연다\n",
    "if debug_trace:\n",
    "    log_file = open(\"debug.log\", \"w\", encoding='utf-8')\n",
    "\n",
    "\n",
    "# 데코레이터 함수의 정의\n",
    "def debug_log(func):\n",
    "    if debug_trace:\n",
    "        def func_and_log(*args, **kwargs):\n",
    "            # func을 실행하기 전에 로그 파일에 기록\n",
    "            log_file.write(\"시작 %s: %s, %s\\n\" %\n",
    "                           (func.__name__, args, kwargs))\n",
    "            # func를 그대로 실행\n",
    "            r = func(*args, **kwargs)\n",
    "            # func가 종료되면 로그 파일에 이를 다시 기록\n",
    "            log_file.write(\"종료 %s: 리턴값 %s\\n\" % (func.__name__, r))\n",
    "            return r\n",
    "        return func_and_log\n",
    "    else:\n",
    "        return func  # debug_trace = False면 아무 것도 바뀌지 않는다\n",
    "\n",
    "\n",
    "# 데코레이터로 myFunc의 기능을 바꾼다\n",
    "@debug_log\n",
    "def myfunc(x):\n",
    "    return x+x\n",
    "\n",
    "# 데코레이터로 변경된 myFunc를 실행\n",
    "myfunc(3)\n",
    "myfunc(5)\n",
    "log_file.close()  # 로그 파일을 닫는다"
   ]
  },
  {
   "cell_type": "markdown",
   "metadata": {},
   "source": [
    "## 문자열"
   ]
  },
  {
   "cell_type": "code",
   "execution_count": 68,
   "metadata": {
    "collapsed": true
   },
   "outputs": [],
   "source": [
    "not_tab_string = r\"\\t\""
   ]
  },
  {
   "cell_type": "code",
   "execution_count": 69,
   "metadata": {},
   "outputs": [
    {
     "data": {
      "text/plain": [
       "2"
      ]
     },
     "execution_count": 69,
     "metadata": {},
     "output_type": "execute_result"
    }
   ],
   "source": [
    "len(not_tab_string)"
   ]
  },
  {
   "cell_type": "code",
   "execution_count": 73,
   "metadata": {},
   "outputs": [
    {
     "name": "stdout",
     "output_type": "stream",
     "text": [
      " first line \n",
      "second line\n",
      "third line\n",
      "\n"
     ]
    }
   ],
   "source": [
    "multi_line_string = \"\"\"-first line \n",
    "-second line\n",
    "-third line\n",
    "\"\"\"\n",
    "print(multi_line_string)"
   ]
  },
  {
   "cell_type": "markdown",
   "metadata": {},
   "source": [
    "## 예외 처리"
   ]
  },
  {
   "cell_type": "code",
   "execution_count": 76,
   "metadata": {},
   "outputs": [
    {
     "name": "stdout",
     "output_type": "stream",
     "text": [
      "cannot divide by zero\n"
     ]
    }
   ],
   "source": [
    "try:\n",
    "     print (0/0)\n",
    "except ZeroDivisionError:\n",
    "    print (\"cannot divide by zero\")"
   ]
  },
  {
   "cell_type": "markdown",
   "metadata": {},
   "source": [
    "# 자료형"
   ]
  },
  {
   "cell_type": "markdown",
   "metadata": {},
   "source": [
    "## list"
   ]
  },
  {
   "cell_type": "code",
   "execution_count": 85,
   "metadata": {},
   "outputs": [
    {
     "name": "stdout",
     "output_type": "stream",
     "text": [
      "3\n",
      "['Zach', 'Jay', 'Richard']\n",
      "['Zach', 'Jay', 'Richard', 'Abi', 'Kevin', 'henn']\n"
     ]
    }
   ],
   "source": [
    "names = ['Zach', 'Jay']\n",
    "names[0] == 'Zach'\n",
    "names.append('Richard')\n",
    "print(len(names))\n",
    "print (names)  \n",
    "names.extend(['Abi', 'Kevin'])\n",
    "names = names + [\"henn\"]\n",
    "print (names)  \n",
    "names = []     # Creates an empty list\n",
    "names = list() # Also creates an empty list\n",
    "stuff = [1, ['hi','bye'], -0.12, None]  # Can mix types\n",
    " "
   ]
  },
  {
   "cell_type": "code",
   "execution_count": 81,
   "metadata": {},
   "outputs": [
    {
     "data": {
      "text/plain": [
       "True"
      ]
     },
     "execution_count": 81,
     "metadata": {},
     "output_type": "execute_result"
    }
   ],
   "source": [
    "numbers = [0, 1, 2, 3, 4, 5, 6]\n",
    "numbers[0:3] == numbers[:3] == [0, 1, 2]\n",
    "numbers[5:] == numbers[5:7] == [5, 6]\n",
    "numbers[:] == numbers == [0, 1, 2, 3, 4, 5, 6]\n",
    "numbers[-1] == 6             # Negative index wraps around\n",
    "numbers[-3:] == [4, 5, 6]\n",
    "numbers[3:-2] == [3, 4]      # Can mix and match\n",
    " "
   ]
  },
  {
   "cell_type": "code",
   "execution_count": 82,
   "metadata": {},
   "outputs": [
    {
     "data": {
      "text/plain": [
       "False"
      ]
     },
     "execution_count": 82,
     "metadata": {},
     "output_type": "execute_result"
    }
   ],
   "source": [
    "1 in [1,2,3]\n",
    "0 in [1,2,3]"
   ]
  },
  {
   "cell_type": "markdown",
   "metadata": {},
   "source": [
    "## List Comprehension"
   ]
  },
  {
   "cell_type": "code",
   "execution_count": 109,
   "metadata": {},
   "outputs": [
    {
     "name": "stdout",
     "output_type": "stream",
     "text": [
      "[5, 5, 3, 5, 4, 4, 3]\n"
     ]
    },
    {
     "data": {
      "text/plain": [
       "<generator object <genexpr> at 0x11fd2fa98>"
      ]
     },
     "execution_count": 109,
     "metadata": {},
     "output_type": "execute_result"
    }
   ],
   "source": [
    "sentence = \"the quick brown fox jumps over the lazy dog\"\n",
    "words = sentence.split()\n",
    "word_lengths = [len(word) for word in words if word != \"the\"]\n",
    "print(word_lengths)\n",
    "(len(word) for word in words if word != \"the\")"
   ]
  },
  {
   "cell_type": "markdown",
   "metadata": {},
   "source": [
    "## tuple"
   ]
  },
  {
   "cell_type": "code",
   "execution_count": 101,
   "metadata": {},
   "outputs": [
    {
     "name": "stdout",
     "output_type": "stream",
     "text": [
      "(4, 3)\n"
     ]
    }
   ],
   "source": [
    "my_tuple = (1,2)\n",
    "x, y = 1, 2 \n",
    "def sum_and_product(x,y ):\n",
    "    return (x + y),(x * y)\n",
    "print(sum_and_product(1,3))\n"
   ]
  },
  {
   "cell_type": "code",
   "execution_count": 119,
   "metadata": {},
   "outputs": [
    {
     "name": "stdout",
     "output_type": "stream",
     "text": [
      "('Zach', 'Jay')\n"
     ]
    }
   ],
   "source": [
    "names = ('Zach', 'Jay')  # Note the parentheses\n",
    "names[0] == 'Zach'\n",
    "len(names) == 2\n",
    "print (names)\n",
    "#names[0] = 'Richard' #'tuple' object does not support item assignment\n",
    "empty = tuple()   # Empty tuple\n",
    "single = (10,)    # Single-element tuple. Comma matters!"
   ]
  },
  {
   "cell_type": "markdown",
   "metadata": {},
   "source": [
    "## dict"
   ]
  },
  {
   "cell_type": "code",
   "execution_count": 121,
   "metadata": {},
   "outputs": [
    {
     "ename": "SyntaxError",
     "evalue": "EOL while scanning string literal (<ipython-input-121-644889fea542>, line 4)",
     "output_type": "error",
     "traceback": [
      "\u001b[0;36m  File \u001b[0;32m\"<ipython-input-121-644889fea542>\"\u001b[0;36m, line \u001b[0;32m4\u001b[0m\n\u001b[0;31m    phonebook['Jay'] = '34-23’\u001b[0m\n\u001b[0m                              ^\u001b[0m\n\u001b[0;31mSyntaxError\u001b[0m\u001b[0;31m:\u001b[0m EOL while scanning string literal\n"
     ]
    }
   ],
   "source": [
    "phonebook = {}\n",
    "phonebook = dict()             # Empty dictionary\n",
    "phonebook = {'Zach': '12-37'}  # Dictionary with one item\n",
    "phonebook['Jay'] = '34-23’\n",
    "print('Zach' in phonebook)\n",
    "print('Kevin'' in phonebook)\n",
    "print(phonebook['Jay'])\n",
    "del phonebook[‘Zach’]\n",
    "print(phonebook) # Add another item\n",
    "\n",
    "for name, number in phonebook.iteritems():\n",
    "  print name, number         "
   ]
  },
  {
   "cell_type": "markdown",
   "metadata": {},
   "source": [
    "## defaultdict"
   ]
  },
  {
   "cell_type": "markdown",
   "metadata": {},
   "source": [
    "## counter"
   ]
  },
  {
   "cell_type": "code",
   "execution_count": 7,
   "metadata": {},
   "outputs": [
    {
     "name": "stdout",
     "output_type": "stream",
     "text": [
      "Initial : Counter()\n",
      "Sequence: Counter({'a': 3, 'b': 2, 'c': 1, 'd': 1})\n",
      "Dict    : Counter({'d': 6, 'a': 4, 'b': 2, 'c': 1})\n"
     ]
    }
   ],
   "source": [
    "from collections import defaultdict, Counter\n",
    "\n",
    "\n",
    "c = Counter()\n",
    "print ('Initial :', c)\n",
    "\n",
    "c.update('abcdaab')\n",
    "print ('Sequence:', c)\n",
    "\n",
    "c.update({'a':1, 'd':5})\n",
    "print ('Dict    :', c)\n"
   ]
  },
  {
   "cell_type": "markdown",
   "metadata": {},
   "source": [
    "## set"
   ]
  },
  {
   "cell_type": "code",
   "execution_count": null,
   "metadata": {
    "collapsed": true
   },
   "outputs": [],
   "source": []
  },
  {
   "cell_type": "code",
   "execution_count": null,
   "metadata": {
    "collapsed": true
   },
   "outputs": [],
   "source": []
  },
  {
   "cell_type": "markdown",
   "metadata": {},
   "source": [
    "## 흐름 제어"
   ]
  },
  {
   "cell_type": "code",
   "execution_count": 30,
   "metadata": {},
   "outputs": [
    {
     "ename": "SyntaxError",
     "evalue": "invalid character in identifier (<ipython-input-30-2886fa17779a>, line 1)",
     "output_type": "error",
     "traceback": [
      "\u001b[0;36m  File \u001b[0;32m\"<ipython-input-30-2886fa17779a>\"\u001b[0;36m, line \u001b[0;32m1\u001b[0m\n\u001b[0;31m    for name in [‘Zack’, ‘Jay’, ‘Richard’]:\u001b[0m\n\u001b[0m                      ^\u001b[0m\n\u001b[0;31mSyntaxError\u001b[0m\u001b[0;31m:\u001b[0m invalid character in identifier\n"
     ]
    }
   ],
   "source": [
    "for name in [‘Zack’, ‘Jay’, ‘Richard’]:\n",
    "  print ‘Hi ‘ + name + ‘!’\n",
    ">> Hi Zack!\n",
    "   Hi Jay!\n",
    "Hi Richard!\n",
    "while True:\n",
    "  print ‘We’re stuck in a loop...’\n",
    "  break # Break out of the while loop\n",
    ">> We’re stuck in a loop...\n",
    " "
   ]
  },
  {
   "cell_type": "code",
   "execution_count": null,
   "metadata": {
    "collapsed": true
   },
   "outputs": [],
   "source": []
  },
  {
   "cell_type": "markdown",
   "metadata": {},
   "source": [
    "## Generator와 iterator"
   ]
  },
  {
   "cell_type": "code",
   "execution_count": null,
   "metadata": {
    "collapsed": true
   },
   "outputs": [],
   "source": []
  },
  {
   "cell_type": "code",
   "execution_count": 8,
   "metadata": {
    "collapsed": true
   },
   "outputs": [],
   "source": [
    "# fill in this function\n",
    "def fib():\n",
    "    pass #this is a null statement which does nothing when executed, useful as a placeholder.\n",
    "\n",
    "# testing code\n",
    "import types\n",
    "if type(fib()) == types.GeneratorType:\n",
    "    print(\"Good, The fib function is a generator.\")\n",
    "\n",
    "    counter = 0\n",
    "    for n in fib():\n",
    "        print(n)\n",
    "        counter += 1\n",
    "        if counter == 10:\n",
    "            break"
   ]
  },
  {
   "cell_type": "code",
   "execution_count": 9,
   "metadata": {},
   "outputs": [
    {
     "name": "stdout",
     "output_type": "stream",
     "text": [
      "['the', 'quick', 'brown', 'fox', 'jumps', 'over', 'the', 'lazy', 'dog']\n"
     ]
    }
   ],
   "source": [
    "sentence = \"the quick brown fox jumps over the lazy dog\"\n",
    "words = sentence.split()\n",
    "word_lengths = []\n",
    "for word in words:\n",
    "      if word != \"the\":\n",
    "          word_lengths.append(len(word))\n",
    "print(words)"
   ]
  },
  {
   "cell_type": "markdown",
   "metadata": {},
   "source": [
    "## 난수 생성"
   ]
  },
  {
   "cell_type": "code",
   "execution_count": null,
   "metadata": {
    "collapsed": true
   },
   "outputs": [],
   "source": []
  },
  {
   "cell_type": "markdown",
   "metadata": {},
   "source": [
    "## 정규표현식"
   ]
  },
  {
   "cell_type": "code",
   "execution_count": null,
   "metadata": {
    "collapsed": true
   },
   "outputs": [],
   "source": []
  },
  {
   "cell_type": "code",
   "execution_count": null,
   "metadata": {
    "collapsed": true
   },
   "outputs": [],
   "source": []
  },
  {
   "cell_type": "markdown",
   "metadata": {},
   "source": [
    "# OOP"
   ]
  },
  {
   "cell_type": "code",
   "execution_count": null,
   "metadata": {
    "collapsed": true
   },
   "outputs": [],
   "source": []
  },
  {
   "cell_type": "code",
   "execution_count": null,
   "metadata": {
    "collapsed": true
   },
   "outputs": [],
   "source": []
  },
  {
   "cell_type": "markdown",
   "metadata": {},
   "source": [
    "## 함수형 도구"
   ]
  },
  {
   "cell_type": "code",
   "execution_count": null,
   "metadata": {
    "collapsed": true
   },
   "outputs": [],
   "source": []
  },
  {
   "cell_type": "markdown",
   "metadata": {},
   "source": [
    "## enumerate"
   ]
  },
  {
   "cell_type": "code",
   "execution_count": null,
   "metadata": {
    "collapsed": true
   },
   "outputs": [],
   "source": []
  },
  {
   "cell_type": "markdown",
   "metadata": {},
   "source": [
    "## zip과 argument unpacking"
   ]
  },
  {
   "cell_type": "code",
   "execution_count": 10,
   "metadata": {},
   "outputs": [
    {
     "name": "stdout",
     "output_type": "stream",
     "text": [
      "['the', 'quick', 'brown', 'fox', 'jumps', 'over', 'the', 'lazy', 'dog']\n"
     ]
    }
   ],
   "source": [
    "sentence = \"the quick brown fox jumps over the lazy dog\"\n",
    "words = sentence.split()\n",
    "word_lengths = [len(word) for word in words if word != \"the\"]\n",
    "print(words)"
   ]
  },
  {
   "cell_type": "code",
   "execution_count": null,
   "metadata": {
    "collapsed": true
   },
   "outputs": [],
   "source": []
  },
  {
   "cell_type": "markdown",
   "metadata": {},
   "source": [
    "## args와 kwargs"
   ]
  },
  {
   "cell_type": "code",
   "execution_count": null,
   "metadata": {
    "collapsed": true
   },
   "outputs": [],
   "source": []
  },
  {
   "cell_type": "code",
   "execution_count": 11,
   "metadata": {},
   "outputs": [
    {
     "name": "stdout",
     "output_type": "stream",
     "text": [
      "[1, 1, 2, 3, 6, 8, 10]\n"
     ]
    }
   ],
   "source": [
    "def someGreatFunction(arr):\n",
    "      if len(arr) <= 1:\n",
    "          return arr\n",
    "      pivot = arr[len(arr) // 2]\n",
    "      left = [x for x in arr if x < pivot]\n",
    "      middle = [x for x in arr if x == pivot]\n",
    "      right = [x for x in arr if x > pivot]\n",
    "      return someGreatFunction(left) + middle + someGreatFunction(right)\n",
    "\n",
    "print(someGreatFunction([3,6,8,10,1,2,1]))"
   ]
  },
  {
   "cell_type": "code",
   "execution_count": null,
   "metadata": {
    "collapsed": true
   },
   "outputs": [],
   "source": []
  },
  {
   "cell_type": "code",
   "execution_count": null,
   "metadata": {
    "collapsed": true
   },
   "outputs": [],
   "source": []
  }
 ],
 "metadata": {
  "kernelspec": {
   "display_name": "Python 3",
   "language": "python",
   "name": "python3"
  },
  "language_info": {
   "codemirror_mode": {
    "name": "ipython",
    "version": 3
   },
   "file_extension": ".py",
   "mimetype": "text/x-python",
   "name": "python",
   "nbconvert_exporter": "python",
   "pygments_lexer": "ipython3",
   "version": "3.6.1"
  }
 },
 "nbformat": 4,
 "nbformat_minor": 2
}
